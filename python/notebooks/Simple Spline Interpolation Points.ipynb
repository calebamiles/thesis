{
 "metadata": {
  "name": "Simple Spline Interpolation Points"
 }, 
 "name": "Simple Spline Interpolation Points", 
 "nbformat": 2, 
 "worksheets": [
  {
   "cells": [
    {
     "cell_type": "code", 
     "collapsed": true, 
     "input": "### Function for inner ellipse\ndef f(x):\n    return np.sqrt((1.0/64)*(0.25 - x**2))", 
     "language": "python", 
     "outputs": [], 
     "prompt_number": 1
    }, 
    {
     "cell_type": "code", 
     "collapsed": true, 
     "input": "X = linspace(0.0,0.5,12)", 
     "language": "python", 
     "outputs": [], 
     "prompt_number": 45
    }, 
    {
     "cell_type": "code", 
     "collapsed": false, 
     "input": "Y = -f(X)", 
     "language": "python", 
     "outputs": [], 
     "prompt_number": 49
    }, 
    {
     "cell_type": "code", 
     "collapsed": false, 
     "input": "for i,j in zip(X,Y): print (i, j, 0.00)", 
     "language": "python", 
     "outputs": [
      {
       "output_type": "stream", 
       "stream": "stdout", 
       "text": "(0.0, -0.0625, 0.0)\n(0.045454545454545456, -0.062241199716496151, 0.0)\n(0.090909090909090912, -0.061458260377227091, 0.0)\n(0.13636363636363635, -0.060130711615104332, 0.0)\n(0.18181818181818182, -0.058221311170224992, 0.0)\n(0.22727272727272729, -0.055670221426890411, 0.0)\n(0.27272727272727271, -0.052383775325527772, 0.0)\n(0.31818181818181818, -0.04821182598999188, 0.0)\n(0.36363636363636365, -0.04289678656403835, 0.0)\n(0.40909090909090912, -0.035934973411004302, 0.0)\n(0.45454545454545459, -0.026037361903158172, 0.0)\n(0.5, -0, 0.0)"
      }
     ], 
     "prompt_number": 50
    }, 
    {
     "cell_type": "code", 
     "collapsed": true, 
     "input": "### Function for outer ellipse\ndef g(x):\n    return np.sqrt((1.0/64)*(1.0 - x**2))", 
     "language": "python", 
     "outputs": [], 
     "prompt_number": 51
    }, 
    {
     "cell_type": "code", 
     "collapsed": true, 
     "input": "A = linspace(0.0,1.0,12)", 
     "language": "python", 
     "outputs": [], 
     "prompt_number": 70
    }, 
    {
     "cell_type": "code", 
     "collapsed": true, 
     "input": "B = -g(A)", 
     "language": "python", 
     "outputs": [], 
     "prompt_number": 73
    }, 
    {
     "cell_type": "code", 
     "collapsed": false, 
     "input": "for i,j in zip(A,B): print (i, j, 0.00)", 
     "language": "python", 
     "outputs": [
      {
       "output_type": "stream", 
       "stream": "stdout", 
       "text": "(0.0, -0.125, 0.0)\n(0.090909090909090912, -0.1244823994329923, 0.0)\n(0.18181818181818182, -0.12291652075445418, 0.0)\n(0.27272727272727271, -0.12026142323020866, 0.0)\n(0.36363636363636365, -0.11644262234044998, 0.0)\n(0.45454545454545459, -0.11134044285378082, 0.0)\n(0.54545454545454541, -0.10476755065105554, 0.0)\n(0.63636363636363635, -0.09642365197998376, 0.0)\n(0.72727272727272729, -0.0857935731280767, 0.0)\n(0.81818181818181823, -0.071869946822008604, 0.0)\n(0.90909090909090917, -0.052074723806316343, 0.0)\n(1.0, -0, 0.0)"
      }
     ], 
     "prompt_number": 74
    }, 
    {
     "cell_type": "code", 
     "collapsed": true, 
     "input": "", 
     "language": "python", 
     "outputs": [], 
     "prompt_number": "&nbsp;"
    }
   ]
  }
 ]
}